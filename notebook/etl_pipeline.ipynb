{
 "cells": [
  {
   "cell_type": "code",
   "execution_count": 34,
   "id": "80da1786",
   "metadata": {},
   "outputs": [
    {
     "name": "stderr",
     "output_type": "stream",
     "text": [
      "[nltk_data] Downloading package punkt to\n",
      "[nltk_data]     /Users/kamleshkumarrangi/nltk_data...\n",
      "[nltk_data]   Package punkt is already up-to-date!\n",
      "[nltk_data] Downloading package stopwords to\n",
      "[nltk_data]     /Users/kamleshkumarrangi/nltk_data...\n",
      "[nltk_data]   Package stopwords is already up-to-date!\n",
      "[nltk_data] Downloading package wordnet to\n",
      "[nltk_data]     /Users/kamleshkumarrangi/nltk_data...\n",
      "[nltk_data]   Package wordnet is already up-to-date!\n",
      "[nltk_data] Downloading package averaged_perceptron_tagger to\n",
      "[nltk_data]     /Users/kamleshkumarrangi/nltk_data...\n",
      "[nltk_data]   Package averaged_perceptron_tagger is already up-to-\n",
      "[nltk_data]       date!\n"
     ]
    }
   ],
   "source": [
    "# import libraries\n",
    "import pandas as pd\n",
    "import re, nltk\n",
    "from sqlalchemy import create_engine\n",
    "\n",
    "from nltk.corpus import stopwords\n",
    "from nltk import word_tokenize\n",
    "from nltk.stem import WordNetLemmatizer\n",
    "\n",
    "from sklearn.model_selection import GridSearchCV\n",
    "from sklearn.model_selection import train_test_split\n",
    "from sklearn.multioutput import MultiOutputClassifier\n",
    "from sklearn.ensemble import RandomForestClassifier\n",
    "from sklearn.metrics import confusion_matrix\n",
    "from sklearn.pipeline import Pipeline, FeatureUnion\n",
    "from sklearn.base import BaseEstimator, TransformerMixin\n",
    "from sklearn.feature_extraction.text import CountVectorizer, TfidfTransformer\n",
    "from sklearn.ensemble import GradientBoostingClassifier, RandomForestClassifier, AdaBoostClassifier\n",
    "\n",
    "nltk.download(['punkt','stopwords','wordnet','averaged_perceptron_tagger'])\n",
    "\n",
    "lemmatizer = WordNetLemmatizer()"
   ]
  },
  {
   "cell_type": "code",
   "execution_count": 35,
   "id": "52e350f9",
   "metadata": {},
   "outputs": [],
   "source": [
    "# Load the ETL pipeline \n",
    "engine = create_engine('sqlite:///disaster_response_table.db')\n",
    "df = pd.read_sql_table('disaster_response_table.db', engine) \n",
    "X = df['message']\n",
    "y = df.drop(['id','message','original','genre'], axis=1)\n",
    "X_train, X_test, y_train, y_test = train_test_split(X, y, test_size=0.30, random_state=42)"
   ]
  },
  {
   "cell_type": "code",
   "execution_count": 36,
   "id": "45726f67",
   "metadata": {},
   "outputs": [
    {
     "data": {
      "text/plain": [
       "17572    Also, a near 800mt-wide breach appeared in the...\n",
       "19406    Under Federation support, a PMI national respo...\n",
       "Name: message, dtype: object"
      ]
     },
     "execution_count": 36,
     "metadata": {},
     "output_type": "execute_result"
    }
   ],
   "source": [
    "X_train.head(2)"
   ]
  },
  {
   "cell_type": "code",
   "execution_count": 37,
   "id": "93639a0a",
   "metadata": {},
   "outputs": [
    {
     "data": {
      "text/html": [
       "<div>\n",
       "<style scoped>\n",
       "    .dataframe tbody tr th:only-of-type {\n",
       "        vertical-align: middle;\n",
       "    }\n",
       "\n",
       "    .dataframe tbody tr th {\n",
       "        vertical-align: top;\n",
       "    }\n",
       "\n",
       "    .dataframe thead th {\n",
       "        text-align: right;\n",
       "    }\n",
       "</style>\n",
       "<table border=\"1\" class=\"dataframe\">\n",
       "  <thead>\n",
       "    <tr style=\"text-align: right;\">\n",
       "      <th></th>\n",
       "      <th>related</th>\n",
       "      <th>request</th>\n",
       "      <th>offer</th>\n",
       "      <th>aid_related</th>\n",
       "      <th>medical_help</th>\n",
       "      <th>medical_products</th>\n",
       "      <th>search_and_rescue</th>\n",
       "      <th>security</th>\n",
       "      <th>military</th>\n",
       "      <th>water</th>\n",
       "      <th>...</th>\n",
       "      <th>aid_centers</th>\n",
       "      <th>other_infrastructure</th>\n",
       "      <th>weather_related</th>\n",
       "      <th>floods</th>\n",
       "      <th>storm</th>\n",
       "      <th>fire</th>\n",
       "      <th>earthquake</th>\n",
       "      <th>cold</th>\n",
       "      <th>other_weather</th>\n",
       "      <th>direct_report</th>\n",
       "    </tr>\n",
       "  </thead>\n",
       "  <tbody>\n",
       "    <tr>\n",
       "      <th>17572</th>\n",
       "      <td>1</td>\n",
       "      <td>0</td>\n",
       "      <td>0</td>\n",
       "      <td>0</td>\n",
       "      <td>0</td>\n",
       "      <td>0</td>\n",
       "      <td>0</td>\n",
       "      <td>0</td>\n",
       "      <td>0</td>\n",
       "      <td>0</td>\n",
       "      <td>...</td>\n",
       "      <td>0</td>\n",
       "      <td>0</td>\n",
       "      <td>1</td>\n",
       "      <td>1</td>\n",
       "      <td>0</td>\n",
       "      <td>0</td>\n",
       "      <td>0</td>\n",
       "      <td>0</td>\n",
       "      <td>0</td>\n",
       "      <td>0</td>\n",
       "    </tr>\n",
       "    <tr>\n",
       "      <th>19406</th>\n",
       "      <td>1</td>\n",
       "      <td>0</td>\n",
       "      <td>0</td>\n",
       "      <td>1</td>\n",
       "      <td>1</td>\n",
       "      <td>0</td>\n",
       "      <td>0</td>\n",
       "      <td>0</td>\n",
       "      <td>0</td>\n",
       "      <td>1</td>\n",
       "      <td>...</td>\n",
       "      <td>0</td>\n",
       "      <td>0</td>\n",
       "      <td>0</td>\n",
       "      <td>0</td>\n",
       "      <td>0</td>\n",
       "      <td>0</td>\n",
       "      <td>0</td>\n",
       "      <td>0</td>\n",
       "      <td>0</td>\n",
       "      <td>1</td>\n",
       "    </tr>\n",
       "  </tbody>\n",
       "</table>\n",
       "<p>2 rows × 35 columns</p>\n",
       "</div>"
      ],
      "text/plain": [
       "       related  request  offer  aid_related  medical_help  medical_products  \\\n",
       "17572        1        0      0            0             0                 0   \n",
       "19406        1        0      0            1             1                 0   \n",
       "\n",
       "       search_and_rescue  security  military  water  ...  aid_centers  \\\n",
       "17572                  0         0         0      0  ...            0   \n",
       "19406                  0         0         0      1  ...            0   \n",
       "\n",
       "       other_infrastructure  weather_related  floods  storm  fire  earthquake  \\\n",
       "17572                     0                1       1      0     0           0   \n",
       "19406                     0                0       0      0     0           0   \n",
       "\n",
       "       cold  other_weather  direct_report  \n",
       "17572     0              0              0  \n",
       "19406     0              0              1  \n",
       "\n",
       "[2 rows x 35 columns]"
      ]
     },
     "execution_count": 37,
     "metadata": {},
     "output_type": "execute_result"
    }
   ],
   "source": [
    "y_train.head(2)"
   ]
  },
  {
   "cell_type": "code",
   "execution_count": 38,
   "id": "b76c1da2",
   "metadata": {},
   "outputs": [],
   "source": [
    "url_regex = 'http[s]?://(?:[a-zA-Z]|[0-9]|[$-_@.&+]|[!*\\(\\),]|(?:%[0-9a-fA-F][0-9a-fA-F]))+'\n",
    "\n",
    "def tokenize(text):\n",
    "   \n",
    "    detected_urls = re.findall(url_regex, text)\n",
    "    for url in detected_urls:\n",
    "        text = text.replace(url, \"urlplaceholder\")\n",
    "\n",
    "    tokens = word_tokenize(text)\n",
    "    lemmatizer = WordNetLemmatizer()\n",
    "\n",
    "    clean_tokens = []\n",
    "    for tok in tokens:\n",
    "        clean_tok = lemmatizer.lemmatize(tok).lower().strip()\n",
    "        clean_tokens.append(clean_tok)\n",
    "\n",
    "    return clean_tokens\n",
    "\n",
    "\n",
    "class StartingVerbExtractor(BaseEstimator, TransformerMixin):\n",
    "\n",
    "    def starting_verb(self, text):\n",
    "        sentence_list = nltk.sent_tokenize(text)\n",
    "        for sentence in sentence_list:\n",
    "            pos_tags = nltk.pos_tag(tokenize(sentence))\n",
    "            first_word, first_tag = pos_tags[0]\n",
    "            if first_tag in ['VB', 'VBP'] or first_word == 'RT':\n",
    "                return True\n",
    "        return False\n",
    "\n",
    "    def fit(self, x, y=None):\n",
    "        return self\n",
    "\n",
    "    def transform(self, X):\n",
    "        X_tagged = pd.Series(X).apply(self.starting_verb)\n",
    "        return pd.DataFrame(X_tagged)"
   ]
  },
  {
   "cell_type": "code",
   "execution_count": 39,
   "id": "54d9d191",
   "metadata": {},
   "outputs": [],
   "source": [
    "pipeline = Pipeline([\n",
    "        ('features', FeatureUnion([\n",
    "\n",
    "            ('text_pipeline', Pipeline([\n",
    "                ('count_vectorizer', CountVectorizer(tokenizer=tokenize)),\n",
    "                ('tfidf_transformer', TfidfTransformer())\n",
    "            ])),\n",
    "\n",
    "            ('starting_verb_transformer', StartingVerbExtractor())\n",
    "        ])),\n",
    "\n",
    "        ('classifier', MultiOutputClassifier(AdaBoostClassifier()))\n",
    "    ])"
   ]
  },
  {
   "cell_type": "code",
   "execution_count": 40,
   "id": "86af5fd7",
   "metadata": {},
   "outputs": [],
   "source": [
    "parameters = {\n",
    "        \"classifier__estimator__learning_rate\": [0.01, 0.02, 0.05, 0.08, 0.10],\n",
    "        \"classifier__estimator__n_estimators\": [10, 20, 30],}"
   ]
  },
  {
   "cell_type": "code",
   "execution_count": 41,
   "id": "a5279bac",
   "metadata": {},
   "outputs": [],
   "source": [
    "model = GridSearchCV(pipeline, param_grid=parameters, scoring=\"f1_micro\", n_jobs=-1)"
   ]
  },
  {
   "cell_type": "code",
   "execution_count": 42,
   "id": "ecb1e5f1",
   "metadata": {},
   "outputs": [
    {
     "data": {
      "text/plain": [
       "GridSearchCV(estimator=Pipeline(steps=[('features',\n",
       "                                        FeatureUnion(transformer_list=[('text_pipeline',\n",
       "                                                                        Pipeline(steps=[('count_vectorizer',\n",
       "                                                                                         CountVectorizer(tokenizer=<function tokenize at 0x7fa5e2a02c10>)),\n",
       "                                                                                        ('tfidf_transformer',\n",
       "                                                                                         TfidfTransformer())])),\n",
       "                                                                       ('starting_verb_transformer',\n",
       "                                                                        StartingVerbExtractor())])),\n",
       "                                       ('classifier',\n",
       "                                        MultiOutputClassifier(estimator=AdaBoostClassifier()))]),\n",
       "             n_jobs=-1,\n",
       "             param_grid={'classifier__estimator__learning_rate': [0.01, 0.02,\n",
       "                                                                  0.05, 0.08,\n",
       "                                                                  0.1],\n",
       "                         'classifier__estimator__n_estimators': [10, 20, 30]},\n",
       "             scoring='f1_micro')"
      ]
     },
     "execution_count": 42,
     "metadata": {},
     "output_type": "execute_result"
    }
   ],
   "source": [
    "model.fit(X_train. v, y_train.values)"
   ]
  },
  {
   "cell_type": "code",
   "execution_count": 43,
   "id": "7833020b",
   "metadata": {},
   "outputs": [],
   "source": [
    "y_prediction_test = model.predict(X_test)\n",
    "#y_prediction_train = model.predict(X_train)"
   ]
  },
  {
   "cell_type": "code",
   "execution_count": 28,
   "id": "924a9210",
   "metadata": {},
   "outputs": [],
   "source": [
    "accuracy = (y_prediction_test == y_test).mean()"
   ]
  },
  {
   "cell_type": "code",
   "execution_count": 44,
   "id": "ad84daf0",
   "metadata": {},
   "outputs": [
    {
     "data": {
      "text/plain": [
       "related                   0.764399\n",
       "request                   0.852638\n",
       "offer                     0.995296\n",
       "aid_related               0.648570\n",
       "medical_help              0.923077\n",
       "medical_products          0.951049\n",
       "search_and_rescue         0.976732\n",
       "security                  0.980801\n",
       "military                  0.968722\n",
       "water                     0.951176\n",
       "food                      0.947870\n",
       "shelter                   0.930833\n",
       "clothing                  0.987540\n",
       "money                     0.978385\n",
       "missing_people            0.990591\n",
       "refugees                  0.965162\n",
       "death                     0.957788\n",
       "other_aid                 0.868531\n",
       "infrastructure_related    0.937190\n",
       "transport                 0.960076\n",
       "buildings                 0.948760\n",
       "electricity               0.978640\n",
       "tools                     0.993388\n",
       "hospitals                 0.990591\n",
       "shops                     0.995931\n",
       "aid_centers               0.987540\n",
       "other_infrastructure      0.957533\n",
       "weather_related           0.776351\n",
       "floods                    0.942657\n",
       "storm                     0.922695\n",
       "fire                      0.990083\n",
       "earthquake                0.960712\n",
       "cold                      0.982835\n",
       "other_weather             0.949142\n",
       "direct_report             0.835601\n",
       "dtype: float64"
      ]
     },
     "execution_count": 44,
     "metadata": {},
     "output_type": "execute_result"
    }
   ],
   "source": [
    "accuracy"
   ]
  },
  {
   "cell_type": "code",
   "execution_count": 45,
   "id": "eb87e30c",
   "metadata": {},
   "outputs": [
    {
     "data": {
      "text/plain": [
       "['classifier.joblib']"
      ]
     },
     "execution_count": 45,
     "metadata": {},
     "output_type": "execute_result"
    }
   ],
   "source": [
    "import pickle\n",
    "from joblib import dump, load\n",
    "\n",
    "filename = 'classifier.pkl'\n",
    "dump(model, 'classifier.joblib')"
   ]
  },
  {
   "cell_type": "code",
   "execution_count": 47,
   "id": "9725cb00",
   "metadata": {},
   "outputs": [],
   "source": [
    "ka = load('classifier.joblib')"
   ]
  },
  {
   "cell_type": "code",
   "execution_count": 51,
   "id": "a43a885a",
   "metadata": {},
   "outputs": [],
   "source": [
    "y_pred = ka.predict(X_test)"
   ]
  },
  {
   "cell_type": "code",
   "execution_count": 52,
   "id": "caced043",
   "metadata": {},
   "outputs": [
    {
     "data": {
      "text/plain": [
       "related                   0.764399\n",
       "request                   0.852638\n",
       "offer                     0.995296\n",
       "aid_related               0.648570\n",
       "medical_help              0.923077\n",
       "medical_products          0.951049\n",
       "search_and_rescue         0.976732\n",
       "security                  0.980801\n",
       "military                  0.968722\n",
       "water                     0.951176\n",
       "food                      0.947870\n",
       "shelter                   0.930833\n",
       "clothing                  0.987540\n",
       "money                     0.978385\n",
       "missing_people            0.990591\n",
       "refugees                  0.965162\n",
       "death                     0.957788\n",
       "other_aid                 0.868531\n",
       "infrastructure_related    0.937190\n",
       "transport                 0.960076\n",
       "buildings                 0.948760\n",
       "electricity               0.978640\n",
       "tools                     0.993388\n",
       "hospitals                 0.990591\n",
       "shops                     0.995931\n",
       "aid_centers               0.987540\n",
       "other_infrastructure      0.957533\n",
       "weather_related           0.776351\n",
       "floods                    0.942657\n",
       "storm                     0.922695\n",
       "fire                      0.990083\n",
       "earthquake                0.960712\n",
       "cold                      0.982835\n",
       "other_weather             0.949142\n",
       "direct_report             0.835601\n",
       "dtype: float64"
      ]
     },
     "execution_count": 52,
     "metadata": {},
     "output_type": "execute_result"
    }
   ],
   "source": [
    "(y_pred==y_test).mean()"
   ]
  },
  {
   "cell_type": "code",
   "execution_count": 53,
   "id": "74304941",
   "metadata": {},
   "outputs": [],
   "source": [
    "import plotly.express as px"
   ]
  },
  {
   "cell_type": "code",
   "execution_count": null,
   "id": "54e12d39",
   "metadata": {},
   "outputs": [],
   "source": []
  }
 ],
 "metadata": {
  "kernelspec": {
   "display_name": "Python 3",
   "language": "python",
   "name": "python3"
  },
  "language_info": {
   "codemirror_mode": {
    "name": "ipython",
    "version": 3
   },
   "file_extension": ".py",
   "mimetype": "text/x-python",
   "name": "python",
   "nbconvert_exporter": "python",
   "pygments_lexer": "ipython3",
   "version": "3.8.8"
  }
 },
 "nbformat": 4,
 "nbformat_minor": 5
}
